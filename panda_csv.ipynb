{
 "cells": [
  {
   "cell_type": "markdown",
   "metadata": {},
   "source": [
    "#TEST"
   ]
  },
  {
   "cell_type": "code",
   "execution_count": null,
   "metadata": {},
   "outputs": [
    {
     "name": "stdout",
     "output_type": "stream",
     "text": [
      "The autoreload extension is already loaded. To reload it, use:\n",
      "  %reload_ext autoreload\n",
      "LOKATIES: datarecords: 4032 without duplicates: 925 (waterbodies: 925)\n",
      "renaming overige waterflora -> overige waterflora-kwaliteit\n",
      "renaming overige relevante verontreinigende stoffen -> Specifieke verontreinigende stoffen\n"
     ]
    }
   ],
   "source": [
    "%load_ext autoreload\n",
    "%autoreload 1\n",
    "%aimport WKP \n",
    "#import nbimporter \n",
    "import numpy as np\n",
    "import pandas as pd\n",
    "import os\n",
    "\n",
    "from ipywidgets import widgets\n",
    "#debug view\n",
    "debug_view = widgets.Output(layout={'border': '1px solid black'})\n",
    "\n",
    "\n",
    "WKP.verbose=True\n",
    "lokaties=WKP.load_lokatie()    \n",
    "oordeel=WKP.load_oordeel()\n",
    "WKP.check_lokaties(oordeel,lokaties)\n",
    "orig_oordeelset=WKP.merge_data(oordeel,lokaties)\n",
    "#doelen=WKP.load_doelen()\n",
    "#WKP.check_lokaties(doelen,lokaties)\n",
    "#doelenset=WKP.merge_data(doelen,lokaties)\n",
    "print('ready loading data')\n"
   ]
  },
  {
   "cell_type": "code",
   "execution_count": null,
   "metadata": {},
   "outputs": [],
   "source": [
    "%%javascript\n",
    "IPython.OutputArea.auto_scroll_threshold = 9999;"
   ]
  },
  {
   "cell_type": "code",
   "execution_count": 7,
   "metadata": {},
   "outputs": [
    {
     "data": {
      "application/vnd.jupyter.widget-view+json": {
       "model_id": "eba47248d45b441b84c4d776ecb0b189",
       "version_major": 2,
       "version_minor": 0
      },
      "text/plain": [
       "VBox(children=(HBox(children=(VBox(children=(RadioButtons(description='Selectie :', options=('algemeen', 'chem…"
      ]
     },
     "metadata": {},
     "output_type": "display_data"
    }
   ],
   "source": [
    "#preselections on dataset\n",
    "#create an ordered list, be aware that NaNs could be present ->dropna\n",
    "stoffen=orig_oordeelset['typering_omschrijving'].dropna().unique()\n",
    "stoffen=sorted(stoffen)\n",
    "oordeelset=orig_oordeelset\n",
    "\n",
    "\n",
    "out = widgets.Output(layout={'border': '1px solid blue'})\n",
    "\n",
    "stofselectie = widgets.Dropdown(\n",
    "    options=stoffen,\n",
    "    value=stoffen[0],\n",
    "    description='Selectie:',\n",
    ")\n",
    "\n",
    "groupselector=widgets.RadioButtons(\n",
    "    options=['algemeen', 'chemie'],\n",
    "    value='algemeen',\n",
    "    description='Selectie :',\n",
    "    disabled=False\n",
    ")\n",
    "\n",
    "methodselector=widgets.RadioButtons(\n",
    "    options=['TT_OM', 'TT','OM'],\n",
    "    value='TT_OM',\n",
    "    description='Methode :',\n",
    "    disabled=False\n",
    ")\n",
    "\n",
    "SGselector=widgets.RadioButtons(\n",
    "    options=['all', 'NLEM','NLMS','NLRN','NLSC'],\n",
    "    value='all',\n",
    "    description='Stroomgebied:',\n",
    "    disabled=False\n",
    ")\n",
    "bepalingselector=widgets.RadioButtons(\n",
    "    options=['all','AQUOKIT', 'DESK'],\n",
    "    value='all',\n",
    "    description='Bepaling:',\n",
    "    disabled=False\n",
    ")\n",
    "gebiedselectie = widgets.Dropdown(\n",
    "    options=['stroomgebied','waterschap'],\n",
    "    value='stroomgebied',\n",
    "    description='Gebiedsnivo:',\n",
    ")\n",
    "#checkboxes \n",
    "checkwaterbeheer=widgets.Checkbox(\n",
    "    value=False,\n",
    "    description='Restrict to waterbeheerder',\n",
    "    disabled=False\n",
    ")\n",
    "\n",
    "showtable=widgets.Checkbox(\n",
    "    value=False,\n",
    "    description='Show table with graphs',\n",
    "    disabled=False\n",
    ")\n",
    "\n",
    "\n",
    "#main routine\n",
    "@debug_view.capture(clear_output=True)\n",
    "def changeview():\n",
    "    subset=oordeelset[(oordeelset['oordeelsoort_code']==methodselector.value)]\n",
    "        \n",
    "    if bepalingselector.value!='all':\n",
    "           subset=subset[(subset['waardebepalingsmethode_code']==bepalingselector.value)]\n",
    "    \n",
    "    if SGselector.value!='all':\n",
    "        subset=subset[(subset['stroomgebieddistrict_code']==SGselector.value)]\n",
    "    \n",
    "    if stofselectie.value!='all':\n",
    "        if groupselector.value!='chemie':\n",
    "          subset=subset[(subset.typering_omschrijving==stofselectie.value)]\n",
    "        else:\n",
    "          subset=subset[(subset.chemischestof_omschrijving==stofselectie.value)]  \n",
    "           \n",
    "    with out:\n",
    "        if subset.shape[0]==0:\n",
    "           print('No data available')\n",
    "           return\n",
    "        \n",
    "        if gebiedselectie.value=='stroomgebied':\n",
    "           WKP.display_stroomgebied_oordeel(subset, showtable.value, stofselectie.value)\n",
    "        if gebiedselectie.value=='waterschap':\n",
    "           WKP.display_waterbeheerder_oordeel(subset,  showtable.value,  stofselectie.value)\n",
    "        \n",
    "\n",
    "def selector_change(change):\n",
    "    if groupselector.value!='chemie':\n",
    "        stoffen=oordeelset['typering_omschrijving'].dropna().unique()\n",
    "    else:\n",
    "        stoffen=oordeelset['chemischestof_omschrijving'].dropna().unique()\n",
    "    \n",
    "    stoffen=sorted(stoffen)\n",
    "    stofselectie.options=stoffen\n",
    "\n",
    "def response(change):\n",
    "       out.clear_output(wait=True)\n",
    "       changeview()\n",
    "    \n",
    "#SELECTOR RESPONSE      \n",
    "stofselectie.observe(response, names=\"value\")\n",
    "gebiedselectie.observe(response, names=\"value\")\n",
    "groupselector.observe(selector_change, names=\"value\" )\n",
    "methodselector.observe(response, names=\"value\" )\n",
    "SGselector.observe(response, names=\"value\" )\n",
    "bepalingselector.observe(response, names=\"value\" )\n",
    "showtable.observe(response, names=\"value\")\n",
    "checkwaterbeheer.observe(response, names=\"value\" )\n",
    "\n",
    "#VISUAL\n",
    "containerleft = widgets.VBox([groupselector, stofselectie, gebiedselectie, showtable])\n",
    "containerright = widgets.VBox([methodselector, bepalingselector])\n",
    "containermid = widgets.VBox([SGselector])\n",
    "widgetcontainer = widgets.HBox([containerleft,containermid, containerright])\n",
    "fullcontainer = widgets.VBox([widgetcontainer,debug_view,out])\n",
    "display(fullcontainer)\n",
    "changeview()\n"
   ]
  },
  {
   "cell_type": "code",
   "execution_count": null,
   "metadata": {},
   "outputs": [],
   "source": []
  },
  {
   "cell_type": "code",
   "execution_count": null,
   "metadata": {},
   "outputs": [],
   "source": []
  }
 ],
 "metadata": {
  "kernelspec": {
   "display_name": "Python 3",
   "language": "python",
   "name": "python3"
  },
  "language_info": {
   "codemirror_mode": {
    "name": "ipython",
    "version": 3
   },
   "file_extension": ".py",
   "mimetype": "text/x-python",
   "name": "python",
   "nbconvert_exporter": "python",
   "pygments_lexer": "ipython3",
   "version": "3.6.3"
  }
 },
 "nbformat": 4,
 "nbformat_minor": 2
}
