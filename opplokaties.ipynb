{
 "cells": [
  {
   "cell_type": "code",
   "execution_count": 17,
   "metadata": {},
   "outputs": [
    {
     "data": {
      "text/plain": [
       "array(['TT_OM', 'OM', 'TT'], dtype=object)"
      ]
     },
     "metadata": {},
     "output_type": "display_data"
    },
    {
     "name": "stdout",
     "output_type": "stream",
     "text": [
      "renaming overige waterflora -> overige waterflora-kwaliteit\n",
      "renaming overige relevante verontreinigende stoffen -> Specifieke verontreinigende stoffen\n",
      "OORDEEL: datarecords: 618465 without duplicates: 614520 (waterbodies: 965)\n"
     ]
    }
   ],
   "source": [
    "import pandas as pd\n",
    "import sys\n",
    "sys.stdout.flush()\n",
    "verbose=True\n",
    "localdir='datasets/'\n",
    "datafiles= ['4.oordelen_owl_2009_20140507.csv.gz',                '4.oordelen_ow_2014_20141117.csv.gz',\n",
    "            '4.oordelen_owl_2015_20151028.csv.gz',                '4.oordelen_owl_2016_20170124.csv.gz',\n",
    "            '4.oordelen_owl_2017_20171120.csv.gz',                '4.oordelen_owl_2018_20181116.csv.gz'\n",
    "            ]\n",
    "dataframe=pd.DataFrame()\n",
    "for filename in datafiles:\n",
    "    locd=pd.read_csv(localdir+filename, sep=';', dtype=object, encoding='latin1')\n",
    "    dataframe=pd.concat([dataframe, locd])\n",
    "#convert to lowercase without dots and spaces    \n",
    "dataframe.columns = dataframe.columns.str.strip().str.lower().str.replace(' ', '_').str.replace('.', '_').str.replace(')', '')\n",
    "#size of dataset\n",
    "oldsize=dataframe.shape[0]\n",
    "#TODO use dicts on definitions from typering_code/typering_omschrijving based on latest\n",
    "#type_code=(dataframe[['typering_code','typering_omschrijving','rapportagejaar']]\n",
    "#           .drop_duplicates().sort_values(by='typering_code'))\n",
    "\n",
    "#type_code=dataframe.groupby('oordeelsoort_code').get_group('TT_OM')\n",
    "type_code=dataframe.oordeelsoort_code.unique()\n",
    "\n",
    "#display(type_code)\n",
    "#type_code=dataframe[['oordeelsoort_code','oordeelsoort_omschrijving',\n",
    "#                         'rapportagejaar']].drop_duplicates().sort_values(by='oordeelsoort_code')\n",
    "#type_code=dataframe[['waardebepalingsmethode_code','waardebepalingsmethode_omschrijving',\n",
    "#                         'rapportagejaar']].drop_duplicates().sort_values(by='waardebepalingsmethode_code')\n",
    "\n",
    "display(type_code)\n",
    "\n",
    "if verbose:\n",
    "    print('renaming overige waterflora -> overige waterflora-kwaliteit')\n",
    "    print('renaming overige relevante verontreinigende stoffen -> Specifieke verontreinigende stoffen')\n",
    "dataframe.loc[dataframe['typering_omschrijving'] =='Overige waterflora', 'typering_omschrijving'] = 'Overige waterflora-kwaliteit'\n",
    "dataframe.loc[dataframe['typering_omschrijving'] =='Overige relevante verontreinigende stoffen', 'typering_omschrijving'] = 'Specifieke verontreinigende stoffen'\n",
    "\n",
    "#remove duplicates\n",
    "\n",
    "dataframe=dataframe.drop_duplicates()\n",
    "\n",
    "#\n",
    "if verbose:\n",
    "    (print('OORDEEL: datarecords: %d without duplicates: %d (waterbodies: %d)' \n",
    "           %(oldsize,dataframe.shape[0],dataframe.waterlichaam_identificatie.nunique()))\n",
    "    )\n",
    "\n"
   ]
  },
  {
   "cell_type": "code",
   "execution_count": null,
   "metadata": {},
   "outputs": [],
   "source": []
  }
 ],
 "metadata": {
  "kernelspec": {
   "display_name": "Python 3",
   "language": "python",
   "name": "python3"
  },
  "language_info": {
   "codemirror_mode": {
    "name": "ipython",
    "version": 3
   },
   "file_extension": ".py",
   "mimetype": "text/x-python",
   "name": "python",
   "nbconvert_exporter": "python",
   "pygments_lexer": "ipython3",
   "version": "3.6.3"
  }
 },
 "nbformat": 4,
 "nbformat_minor": 2
}
